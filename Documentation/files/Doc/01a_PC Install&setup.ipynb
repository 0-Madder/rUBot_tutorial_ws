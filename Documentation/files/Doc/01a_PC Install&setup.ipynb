{
 "cells": [
  {
   "cell_type": "markdown",
   "source": [
    "# ROS Installation"
   ],
   "metadata": {}
  },
  {
   "cell_type": "markdown",
   "source": [
    "Required installations:\n",
    "- Virtual Box \n",
    "- Virtual Machine with:\n",
    "    - Ubuntu 18 and ROS Melodic\n",
    "    - VS Code \n",
    "    - Git&GitHub\n",
    "\n",
    "Details of installation process are described in: https://thealbert.dev/S1-Configuraci-n-de-nuestro-ordenador-operaciones-b-sicas-en-Linux-y-super-simulaci-n-de-una-tort-139f3a330d9642a58d98c034b7b24cc2"
   ],
   "metadata": {}
  },
  {
   "cell_type": "markdown",
   "source": [
    "## Virtual Box"
   ],
   "metadata": {}
  },
  {
   "cell_type": "markdown",
   "source": [
    "Download and install Virtual Box: https://www.virtualbox.org/wiki/Downloads\n",
    "\n",
    "Install also the \"Oracle VM VirtualBox Extension Pack\". Just download and double click it to install. These extensions install different other drivers like the USB2&3 to work with USB webcam and other devices."
   ],
   "metadata": {}
  },
  {
   "cell_type": "markdown",
   "source": [
    "<img src=\"./Images/1_VBox1.png\">"
   ],
   "metadata": {}
  },
  {
   "cell_type": "markdown",
   "source": [
    "NOTE: In older PCs, sometimes you have first to enable the Virtualization in the setup:\n",
    "\n",
    "https://support.bluestacks.com/hc/es/articles/115003174386--C%C3%B3mo-puedo-habilitar-la-virtualizaci%C3%B3n-VT-en-mi-PC-\n",
    "https://www.geeknetic.es/Guia/1873/VirtualBox-Como-activar-la-virtualizacion-por-hardware.html\n",
    "\n"
   ],
   "metadata": {}
  },
  {
   "cell_type": "markdown",
   "source": [
    "## Virtual Machine with Ubuntu 18 and ROS Melodic\n",
    "\n",
    "We have created this Virtual Machine and you can download it from: \n",
    "\n",
    "https://ubarcelona-my.sharepoint.com/:f:/g/personal/manel_puig_ub_edu/EmgoWAmdORlMs1yCEH7ryFYB6YqlfuIAMnpmRPT0ZzoUcg?e=nswv5E\n",
    "\n",
    "Once downloaded, you have to add the VM in your VBox:\n"
   ],
   "metadata": {}
  },
  {
   "cell_type": "markdown",
   "source": [
    "<img src=\"./Images/1_VBox2.png\">"
   ],
   "metadata": {}
  },
  {
   "cell_type": "markdown",
   "source": [
    "If you want to install it follow the steps:\n",
    "- Install Ubuntu 18.04.5 LTS (Bionic Beaver) Desktop (64Bits) in Virtual Box: https://releases.ubuntu.com/18.04/?_ga=2.48347750.1131381805.1604151205-1612800938.1604151205\n",
    "\n",
    "Video Link: https://www.youtube.com/watch?v=QbmRXJJKsvs\n",
    "https://linuxhint.com/install_ubuntu_18-04_virtualbox/"
   ],
   "metadata": {}
  },
  {
   "cell_type": "markdown",
   "source": [
    "#### VM configuration\n",
    "\n",
    "Some configuration parameters are important to review:\n",
    "- Memory\n",
    "- Processor cores\n",
    "- network to \"Adaptador pont\"\n",
    "- share a folder in windows:\n",
    "    - In VBox properties: Specify the folder to share\n",
    "  "
   ],
   "metadata": {}
  },
  {
   "cell_type": "markdown",
   "source": [
    "#### VM start\n",
    "\n",
    "When you start the VM you will need to login:\n",
    "- User: ubuntu\n",
    "- Password: ubuntu\n",
    "\n",
    "Review the screen configuration:"
   ],
   "metadata": {}
  },
  {
   "cell_type": "markdown",
   "source": [
    "![Getting Starter](./Images/1_VM_screen.png)"
   ],
   "metadata": {}
  },
  {
   "cell_type": "markdown",
   "source": [
    "To copy&paste from PC and VM:"
   ],
   "metadata": {}
  },
  {
   "cell_type": "markdown",
   "source": [
    "![Getting Starter](./Images/1_VM_cp.png)"
   ],
   "metadata": {}
  },
  {
   "cell_type": "markdown",
   "source": [
    "To configure the shared folder:\n",
    "- In Ubuntu machine: Identify the shared folder in /media Ubuntu folder (cd /media)\n",
    "- Identify the Group of the owner of this folder (vboxsf) (ls -la)\n",
    "- Add the user (ur) to the group\n",
    "\n",
    "    sudo usermod -a -G <grup_al_que vols_afegir_l_usuari> <usuari>\n",
    "\n",
    "    sudo usermod -a -G vboxsf mpuig\n",
    "- Restart the VM and add folder to bookmarks\n",
    "- Close and open again the virtual machine\n"
   ],
   "metadata": {}
  },
  {
   "cell_type": "markdown",
   "source": [
    "To resize properly the screen, you can type in a terminal:\n",
    "\n",
    "sudo apt install gcc perl dkms\n",
    "\n",
    "In VM, Devices, choose \"Insert CD image of Guest Additions\". This is important ta have acces to different functionalities in VM"
   ],
   "metadata": {}
  },
  {
   "cell_type": "markdown",
   "source": [
    "![Getting Starter](./Images/1_VM_guest.png)"
   ],
   "metadata": {}
  },
  {
   "cell_type": "markdown",
   "source": [
    "### Resize Ubuntu disc \r\n",
    "\r\n",
    "If you want to increase the disc size you have to:\r\n",
    "- increase the size in \"file/gestor de suports virtuals\"\r\n",
    "- open the ubuntu 18 VM\r\n",
    "- Install gparted from terminal:\r\n",
    "    sudo apt-get install gparted\r\n",
    "- select the unallocated partition and create a new partition and validate it\r\n",
    "\r\n",
    "The information is described in: https://www.youtube.com/watch?v=-0HliVX8c98"
   ],
   "metadata": {}
  },
  {
   "cell_type": "markdown",
   "source": [
    "![Getting Starter](./Images/1_disc_size.png)"
   ],
   "metadata": {}
  },
  {
   "cell_type": "markdown",
   "source": [
    "## ROS Melodic installation\n",
    "ROS Melodic also has an installation page at http://wiki.ros.org/melodic/Installation/Ubuntu"
   ],
   "metadata": {}
  },
  {
   "cell_type": "markdown",
   "source": [
    "## Creation of ROS workspace \n",
    "\n",
    "Once the installation is complete, it is very important to configure our ROS workspace, which will be named as **catkin_ws**. For this, we will open a new terminal in our ubuntu 18.04 and insert the following comands:"
   ],
   "metadata": {}
  },
  {
   "cell_type": "code",
   "execution_count": null,
   "source": [
    "mkdir catkin_ws\n",
    "cd catkin_ws\n",
    "mkdir src\n",
    "cd ~/catkin_ws\n",
    "catkin_make"
   ],
   "outputs": [],
   "metadata": {}
  },
  {
   "cell_type": "markdown",
   "source": [
    "\n",
    "Finally, introduce the following command:  "
   ],
   "metadata": {}
  },
  {
   "cell_type": "code",
   "execution_count": null,
   "source": [
    "source devel/setup.bash"
   ],
   "outputs": [],
   "metadata": {}
  },
  {
   "cell_type": "markdown",
   "source": [
    "This last command must be executed at every new terminal we open. To avoid this repeatibility, we will add the following lines to our .bashrc script by running:  "
   ],
   "metadata": {}
  },
  {
   "cell_type": "code",
   "execution_count": null,
   "source": [
    "gedit ~/.bashrc"
   ],
   "outputs": [],
   "metadata": {}
  },
  {
   "cell_type": "markdown",
   "source": [
    "And add to the script:  "
   ],
   "metadata": {}
  },
  {
   "cell_type": "code",
   "execution_count": null,
   "source": [
    "source ~/catkin_ws/devel/setup.bash"
   ],
   "outputs": [],
   "metadata": {}
  },
  {
   "cell_type": "markdown",
   "source": [
    "With this, our workspace is configured"
   ],
   "metadata": {}
  },
  {
   "cell_type": "markdown",
   "source": [
    "## VS Code"
   ],
   "metadata": {}
  },
  {
   "cell_type": "markdown",
   "source": [
    "The best way is in Ubuntu Applications search \"Visual Studio Code\" and install from there.\n",
    "Install the Extensions:\n",
    "- Python (Microsoft)\n",
    "- Python for VSCode\n",
    "- Jupyter notebook\n",
    "- ROS (Microsoft and Snippets)\n"
   ],
   "metadata": {}
  },
  {
   "cell_type": "markdown",
   "source": [
    "## Git&GitHub"
   ],
   "metadata": {}
  },
  {
   "cell_type": "markdown",
   "source": [
    "For windows https://git-scm.com/\n",
    "\n",
    "In Ubuntu Git is already installed, but if not: https://git-scm.com/download/linux\n",
    "\n",
    "sudo apt-get install git\n"
   ],
   "metadata": {}
  },
  {
   "cell_type": "markdown",
   "source": [
    "### Initialise a git repository\n",
    "\n",
    "We can do it in github or in VS Code. The recommended way is in github:\n",
    "\n",
    "### in github\n",
    "- you create a new repository\n",
    "- add a readme file\n",
    "- add a .gitignore (select the ROS configuration one)\n",
    "- choose a license (select GNU General Public License v3.0)\n",
    "- clone the new repository to the VS Code in your PC \n",
    "\n",
    "### in VS Code\n",
    "if you want to Initialize a Repository in your GitHub from VS Code:\n",
    "- In source control select \"Initialize Repository\"\n",
    "- The first time you will have to connect to your github account\n",
    "- Stage your changes\n",
    "- Enter a message and press Ctrl+Enter\n",
    "- Select Publish repository in the bottom left\n",
    "- select Public repository and choose the repository name"
   ],
   "metadata": {}
  },
  {
   "cell_type": "markdown",
   "source": [
    "<img src=\"./Images/1_github_init.png\">"
   ],
   "metadata": {}
  },
  {
   "cell_type": "markdown",
   "source": [
    "<img src=\"./Images/1_github_stage.png\">"
   ],
   "metadata": {}
  },
  {
   "cell_type": "markdown",
   "source": [
    "<img src=\"./Images/1_github_pub.png\">"
   ],
   "metadata": {}
  },
  {
   "cell_type": "markdown",
   "source": [
    "### Clone a gitHub repository in VS Code \n",
    "\n",
    "The repository you want to clone could be:\n",
    "- your own repository in order to continue working with it\n",
    "- from other people in order to work with and add some fuctionalities"
   ],
   "metadata": {}
  },
  {
   "cell_type": "markdown",
   "source": [
    "#### Clone your own repository\n",
    "\n",
    "From VS Code \n",
    "\n",
    "Close folders\n",
    "\n",
    "In \"source control\" select Clone repository (if doesnot work, you have to install git)\n",
    "\n",
    "Insert the path (https://...git). \n",
    "\n",
    "The repository we will clone is: https://github.com/manelpuig/rubot_tutorial_ws\n",
    "\n",
    "you select the home folder location and choose \"open\" in VS Code"
   ],
   "metadata": {}
  },
  {
   "cell_type": "markdown",
   "source": [
    "<img src=\"./Images/1a_gitclone1.png\">"
   ],
   "metadata": {}
  },
  {
   "cell_type": "markdown",
   "source": [
    "#### Clone other people repository\n",
    "\n",
    "In that case you have first to \"fork\" the repository in your github and then clone the forked repository."
   ],
   "metadata": {}
  },
  {
   "cell_type": "markdown",
   "source": [
    "<img src=\"./Images/1a_gitclone_fork.png\">"
   ],
   "metadata": {}
  },
  {
   "cell_type": "markdown",
   "source": [
    "#### Compile the cloned repository\n",
    "The rubot_tutorial_ws folder is now in the Ubuntu18 home directory.\n",
    "\n",
    "We have now to compile this workspace in your ubuntu environment before working. For this purpose you have to:\n",
    "\n",
    "1. delete the \"build\" and \"devel\" folders and CMakeLists.txt file in src folder\n",
    "2. open a terminal compile again typing:\n"
   ],
   "metadata": {}
  },
  {
   "cell_type": "code",
   "execution_count": null,
   "source": [
    "cd ~/rubot_tutorial_ws\n",
    "catkin_make\n",
    "cd ..\n",
    "echo \"source ~/rubot_tutorial_ws/devel/setup.bash\" >> ~/.bashrc\n",
    "source ~/.bashrc"
   ],
   "outputs": [],
   "metadata": {}
  },
  {
   "cell_type": "markdown",
   "source": [
    "Verify in the .bashrc file the last 3 lines to be:"
   ],
   "metadata": {}
  },
  {
   "cell_type": "code",
   "execution_count": null,
   "source": [
    "source /opt/ros/melodic/setup.bash\n",
    "source ~/rubot_tutorial_ws/devel/setup.bash"
   ],
   "outputs": [],
   "metadata": {}
  },
  {
   "cell_type": "markdown",
   "source": [
    "To verify if the rubot_tutorial_ws is working properly, type:"
   ],
   "metadata": {}
  },
  {
   "cell_type": "code",
   "execution_count": null,
   "source": [
    "roslaunch turtlesim_tutorial move_distance.launch"
   ],
   "outputs": [],
   "metadata": {}
  },
  {
   "cell_type": "markdown",
   "source": [
    "Verify first if the python files in scripts folder are executables.\n",
    "\n",
    "Open a terminal in this folder and type: chmod +x *\n",
    "\n",
    "Then you can execute the launch file again and you will see:"
   ],
   "metadata": {}
  },
  {
   "cell_type": "markdown",
   "source": [
    "<img src=\"./Images/1a_moveturtle_verify1.png\">"
   ],
   "metadata": {}
  },
  {
   "cell_type": "markdown",
   "source": [
    "### Sync gitHub repository within VS Code \n",
    "You have a gitHub repository with a name and mail. When you want to work with this repository within VS Code, you have first to clone your repository in your PC (previous section).\n",
    "\n",
    "We will usually have all the repositories locally in your PC, already compiled with the buld and devel folders. \n",
    "\n",
    "The usual process will be:\n",
    "- Pull possible changes someone could be done in github repository: click on syncronize changes in bottom right symbol\n",
    "- work on your local repository\n",
    "- \"commit\" all the files or the ones you want: click on the \"+\" for all changes or select the ones you want\n",
    "- add a comment for this commit process and press ctrl+enter\n",
    "- \"Push\" the committed files to github: click on syncronize changes in bottom right symbol\n",
    "\n",
    "The first time you perform the syncronisation you will be asked to inform about the git name and git email\n",
    "\n",
    "In a terminal insert only first time (using your name and email):"
   ],
   "metadata": {}
  },
  {
   "cell_type": "code",
   "execution_count": null,
   "source": [
    "git config --global user.name \"Manel Puig\""
   ],
   "outputs": [],
   "metadata": {}
  },
  {
   "cell_type": "code",
   "execution_count": null,
   "source": [
    "git config --global user.email \"manel.puig@ub.edu\""
   ],
   "outputs": [],
   "metadata": {}
  },
  {
   "cell_type": "markdown",
   "source": [
    "<img src=\"./Images/1a_gitsync.png\">"
   ],
   "metadata": {}
  },
  {
   "cell_type": "markdown",
   "source": [
    "### Add .gitignore to a github repository\n",
    "\n",
    "you will have to:\n",
    "- clone the github repository to your PC\n",
    "- delete the build and devel folders in the cloned repository in your PC\n",
    "- syncronize the local repository to github (then these folders will be deleted in github)\n",
    "- add the .gitignore file to the ws folder in the PC\n",
    "- syncronize the local repository to github\n",
    "- Compile your local repository"
   ],
   "metadata": {}
  }
 ],
 "metadata": {
  "kernelspec": {
   "display_name": "Python 3.6.9 64-bit",
   "name": "python369jvsc74a57bd031f2aee4e71d21fbe5cf8b01ff0e069b9275f58929596ceb00d14d90e3e16cd6"
  },
  "language_info": {
   "name": "python",
   "version": ""
  },
  "metadata": {
   "interpreter": {
    "hash": "31f2aee4e71d21fbe5cf8b01ff0e069b9275f58929596ceb00d14d90e3e16cd6"
   }
  }
 },
 "nbformat": 4,
 "nbformat_minor": 2
}