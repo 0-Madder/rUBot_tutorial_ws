{
 "cells": [
  {
   "cell_type": "markdown",
   "source": [
    "# ROS Tutorial"
   ],
   "metadata": {}
  },
  {
   "cell_type": "markdown",
   "source": [
    "This tutorial has been extracted from the following references:\n",
    "- http://wiki.ros.org/ROS/Tutorials\n",
    "- http://www.clearpathrobotics.com/assets/guides/kinetic/ros/\n",
    "- ROS free course in Udemy: https://www.udemy.com/share/101GMwAEITeFhTRX4F/\n",
    "- ROS Course Anis Koubaa: https://www.udemy.com/ros-essentials/\n",
    "- ROS course Edouard Renard: https://www.udemy.com/share/1022ucAEITeFhTRX4F/\n",
    "- ROS course: https://github.com/PacktPublishing/Hands-On-ROS-for-Robotics-Programming\n",
    "\n",
    "Important repositories from TheConstruct and other tutorials:\n",
    "https://bitbucket.org/theconstructcore/workspace/projects/"
   ],
   "metadata": {}
  },
  {
   "cell_type": "markdown",
   "source": [
    "# What is ROS?"
   ],
   "metadata": {}
  },
  {
   "cell_type": "markdown",
   "source": [
    "Robot Operating System (ROS) is an open source software environment used worldwide to program in robotics. \n",
    "\n",
    "Its development started at Willow Garage, a technology incubator and robotics research laboratory in Stanford University. \n",
    "- Its origin dates back to several projects at Stanford University from the mid-2000s, where researchers found themselves reinventing the wheel every time they had to build the software for each project. \n",
    "- In 2007, Willow Garage took the lead and gave rise to ROS. The main goal was to reuse existing code and make it possible to prototype new robot designs quickly, focusing on high-level functionality and minimizing the need for editing code.\n",
    "- ROS is intended for the development of applications where different devices have to talk to each other in order to create a flexible and scalable environment.\n",
    "- A ROS system is comprised of a number of independent nodes, each of which communicates with the other nodes using a publish/subscribe messaging model. For example, a particular sensor’s driver might be implemented as a node, which publishes sensor data in a stream of messages. These messages could be consumed by any number of other nodes, including filters, loggers, and also higher-level systems such as guidance, pathfinding, etc.\n",
    "- Note that nodes in ROS do not have to be on the same system (multiple computers) or even of the same architecture! You could have a Arduino publishing messages, a laptop subscribing to them, and an Android phone driving motors. This makes ROS really flexible and adaptable to the needs of the user. ROS is also open source, maintained by many people."
   ],
   "metadata": {}
  },
  {
   "cell_type": "markdown",
   "source": [
    "# General Concepts"
   ],
   "metadata": {}
  },
  {
   "cell_type": "markdown",
   "source": [
    "Let’s look at the ROS system from a very high level view. No need to worry how any of the following works, we will cover that later.\n",
    "\n",
    "ROS starts with the ROS Master. The Master allows all other ROS pieces of software (Nodes) to find and talk to each other. That way, we do not have to ever specifically state “Send this sensor data to that computer at 127.0.0.1. We can simply tell Node 1 to send messages to Node 2."
   ],
   "metadata": {}
  },
  {
   "cell_type": "markdown",
   "source": [
    "<img src=\"./Images/1_ros_nodes.png\">"
   ],
   "metadata": {}
  },
  {
   "cell_type": "markdown",
   "source": [
    "How do Nodes do this? By publishing and subscribing to Topics.\n",
    "\n",
    "Let’s say we have a camera on our Robot. We want to be able to see the images from the camera, both on the Robot itself, and on another laptop.\n",
    "\n",
    "In our example, we have a Camera Node that takes care of communication with the camera, a Image Processing Node on the robot that process image data, and a Image Display Node that displays images on a screen. To start with, all Nodes have registered with the Master. Think of the Master as a lookup table where all the nodes go to find where exactly to send messages."
   ],
   "metadata": {}
  },
  {
   "cell_type": "markdown",
   "source": [
    "<img src=\"./Images/1_ros_nodes_camera.png\">"
   ],
   "metadata": {}
  },
  {
   "cell_type": "markdown",
   "source": [
    "In registering with the ROS Master, the Camera Node states that it will Publish a Topic called /image_data (for example). Both of the other Nodes register that they are Subscribed to the Topic /image_data.\n",
    "\n",
    "Thus, once the Camera Node receives some data from the Camera, it sends the /image_data message directly to the other two nodes. (Through what is essentially TCP/IP)"
   ],
   "metadata": {}
  },
  {
   "cell_type": "markdown",
   "source": [
    "<img src=\"./Images/1_ros_nodes_camera2.png\">"
   ],
   "metadata": {}
  },
  {
   "cell_type": "markdown",
   "source": [
    "Now you may be thinking, what if I want the Image Processing Node to request data from the Camera Node at a specific time? To do this, ROS implements Services.\n",
    "\n",
    "A Node can register a specific service with the ROS Master, just as it registers its messages. In the below example, the Image Processing Node first requests /image_data, the Camera Node takes data from the Camera, and then sends the reply."
   ],
   "metadata": {}
  },
  {
   "cell_type": "markdown",
   "source": [
    "<img src=\"./Images/1_ros_nodes_camera_service.png\">"
   ],
   "metadata": {}
  },
  {
   "cell_type": "markdown",
   "source": [
    "# ROS nodes and topics with Turtlesim "
   ],
   "metadata": {}
  },
  {
   "cell_type": "markdown",
   "source": [
    "In order to understand the ROS environment, with nodes, topics and communication between nodes is very interesting to see the Turtlesim exemple.\n",
    "\n",
    "This tutorial has been extracted from: \n",
    " - http://wiki.ros.org/turtlesim\n",
    " - http://wiki.ros.org/ROS/Tutorials/UnderstandingTopics\n",
    "\n",
    "Be sure you have installed the turtlesim package and run it:"
   ],
   "metadata": {}
  },
  {
   "cell_type": "code",
   "execution_count": null,
   "source": [
    "roscore\n",
    "roscd turtlesim"
   ],
   "outputs": [],
   "metadata": {}
  },
  {
   "cell_type": "code",
   "execution_count": null,
   "source": [
    "rosrun turtlesim turtlesim_node"
   ],
   "outputs": [],
   "metadata": {}
  },
  {
   "cell_type": "markdown",
   "source": [
    "<img src=\"./Images/1_turtlesim1.png\">"
   ],
   "metadata": {}
  },
  {
   "cell_type": "markdown",
   "source": [
    "\"turtlesim_node\" is a node responsible to spaw the turtle in the blue board"
   ],
   "metadata": {}
  },
  {
   "cell_type": "markdown",
   "source": [
    "<img src=\"./Images/2_turtlesim_node.png\">"
   ],
   "metadata": {}
  },
  {
   "cell_type": "code",
   "execution_count": null,
   "source": [
    "rosnode list"
   ],
   "outputs": [],
   "metadata": {}
  },
  {
   "cell_type": "code",
   "execution_count": null,
   "source": [
    "rostopic list"
   ],
   "outputs": [],
   "metadata": {}
  },
  {
   "cell_type": "code",
   "execution_count": null,
   "source": [
    "rosservice list"
   ],
   "outputs": [],
   "metadata": {}
  },
  {
   "cell_type": "code",
   "execution_count": null,
   "source": [
    "rosparam list"
   ],
   "outputs": [],
   "metadata": {}
  },
  {
   "cell_type": "markdown",
   "source": [
    "<img src=\"./Images/1_turtlesim2.png\">"
   ],
   "metadata": {}
  },
  {
   "cell_type": "markdown",
   "source": [
    "To see the information about the nodes, topics and messages:"
   ],
   "metadata": {}
  },
  {
   "cell_type": "code",
   "execution_count": null,
   "source": [
    "rosnode info /turtlesim"
   ],
   "outputs": [],
   "metadata": {}
  },
  {
   "cell_type": "code",
   "execution_count": null,
   "source": [
    "rostopic info /turtle1/cmd_vel"
   ],
   "outputs": [],
   "metadata": {}
  },
  {
   "cell_type": "code",
   "execution_count": null,
   "source": [
    "rostopic info /turtle1/pose"
   ],
   "outputs": [],
   "metadata": {}
  },
  {
   "cell_type": "markdown",
   "source": [
    "In order to see the message structure:"
   ],
   "metadata": {}
  },
  {
   "cell_type": "code",
   "execution_count": null,
   "source": [
    "rosmsg show geometry_msgs/Twist"
   ],
   "outputs": [],
   "metadata": {}
  },
  {
   "cell_type": "markdown",
   "source": [
    "<img src=\"./Images/1_turtlesim6.png\">"
   ],
   "metadata": {}
  },
  {
   "cell_type": "code",
   "execution_count": null,
   "source": [
    "rosmsg show turtlesim/Pose "
   ],
   "outputs": [],
   "metadata": {}
  },
  {
   "cell_type": "markdown",
   "source": [
    "you can also find the message structure in google: http://docs.ros.org/melodic/api/geometry_msgs/html/msg/Twist.html"
   ],
   "metadata": {}
  },
  {
   "cell_type": "markdown",
   "source": [
    "In order to write a message to a topic we have different options:\n",
    "- we can publish directly to the topic: for exemple we publish a Twist type message with a rate of 1Hz to define a circle:"
   ],
   "metadata": {}
  },
  {
   "cell_type": "code",
   "execution_count": null,
   "source": [
    "rostopic pub -r 1 /turtle1/cmd_vel geometry_msgs/Twist '[2, 0, 0]' '[0, 0, 2]'"
   ],
   "outputs": [],
   "metadata": {}
  },
  {
   "cell_type": "markdown",
   "source": [
    "<img src=\"./Images/1_turtlesim7.png\">"
   ],
   "metadata": {}
  },
  {
   "cell_type": "markdown",
   "source": [
    "- or we can write a node to use the keyboard arrows to generate and publish the cmd_vel messages to the /cmd_vel topic:"
   ],
   "metadata": {}
  },
  {
   "cell_type": "code",
   "execution_count": null,
   "source": [
    "rosrun turtlesim turtle_teleop_key"
   ],
   "outputs": [],
   "metadata": {}
  },
  {
   "cell_type": "markdown",
   "source": [
    "<img src=\"./Images/1_turtlesim3.png\">"
   ],
   "metadata": {}
  },
  {
   "cell_type": "markdown",
   "source": [
    "\"turtle_teleop_key\" is another node responsible to comand and move the turtle."
   ],
   "metadata": {}
  },
  {
   "cell_type": "markdown",
   "source": [
    "In order to listen a message from a topic:"
   ],
   "metadata": {}
  },
  {
   "cell_type": "code",
   "execution_count": null,
   "source": [
    "rostopic echo /turtle1/pose"
   ],
   "outputs": [],
   "metadata": {}
  },
  {
   "cell_type": "code",
   "execution_count": null,
   "source": [
    "rostopic echo /turtle1/cmd_vel"
   ],
   "outputs": [],
   "metadata": {}
  },
  {
   "cell_type": "markdown",
   "source": [
    "We can use \"rqt_graph\" and \"rqt_plot\" to se the nodes-topics structure and the message values"
   ],
   "metadata": {}
  },
  {
   "cell_type": "code",
   "execution_count": null,
   "source": [
    "rqt_graph"
   ],
   "outputs": [],
   "metadata": {}
  },
  {
   "cell_type": "markdown",
   "source": [
    "<img src=\"./Images/1_turtlesim4.png\">"
   ],
   "metadata": {}
  },
  {
   "cell_type": "code",
   "execution_count": null,
   "source": [
    "rqt_plot"
   ],
   "outputs": [],
   "metadata": {}
  },
  {
   "cell_type": "markdown",
   "source": [
    "<img src=\"./Images/1_turtlesim8.png\">"
   ],
   "metadata": {}
  },
  {
   "cell_type": "markdown",
   "source": [
    "## PC WorkSpace"
   ],
   "metadata": {}
  },
  {
   "cell_type": "markdown",
   "source": [
    "In order to design our own nodes, we have first to prepare your WS:\n",
    "- you can clone the \"rubot_tutorial_ws\" repository from github\n",
    "- you can create your own \"rubot_tutorial_ws\" workspace\n",
    "\n",
    "in the case you want to create your own \"rubot_tutorial_ws\" workspace:"
   ],
   "metadata": {}
  },
  {
   "cell_type": "code",
   "execution_count": null,
   "source": [
    "mkdir -p ~/rubot_tutorial_ws/src\n",
    "cd ~/rubot_tutorial_ws/src\n",
    "cd ~/rubot_tutorial_ws\n",
    "catkin_make\n",
    "cd ..\n",
    "echo \"source ~/rubot_tutorial_ws/devel/setup.bash\" >> ~/.bashrc\n",
    "source ~/.bashrc"
   ],
   "outputs": [],
   "metadata": {}
  },
  {
   "cell_type": "markdown",
   "source": [
    "## New ROS Package"
   ],
   "metadata": {}
  },
  {
   "cell_type": "markdown",
   "source": [
    "We have first to create a new Package \"ros_basics\" where we will generate different nodes.\n",
    "\n",
    "You can see the sintaxis and all the information in http://wiki.ros.org/ROS/Tutorials/WritingPublisherSubscriber%28python%29"
   ],
   "metadata": {}
  },
  {
   "cell_type": "code",
   "execution_count": null,
   "source": [
    "cd ~/rubot_tutorial_ws/src\n",
    "catkin_create_pkg ros_basics std_msgs rospy"
   ],
   "outputs": [],
   "metadata": {}
  },
  {
   "cell_type": "code",
   "execution_count": null,
   "source": [
    "cd ~/rubot_tutorial_ws\n",
    "catkin_make\n",
    "source ~/rubot_tutorial_ws/devel/setup.bash"
   ],
   "outputs": [],
   "metadata": {}
  },
  {
   "cell_type": "markdown",
   "source": [
    "In order to generate a node to Publish and/or Subscribe in a topic/s, we can create a python script in src folder.\n",
    "\n",
    "We will show first graphically a \"talker\" and \"listener\" nodes, a \"chatter\" topic and the String type messages created for communication purposes:"
   ],
   "metadata": {}
  },
  {
   "cell_type": "markdown",
   "source": [
    "<img src=\"./Images/2_PubSub_1.png\">"
   ],
   "metadata": {}
  },
  {
   "cell_type": "markdown",
   "source": [
    "A python publisher node is defined to:\n",
    "- create a \"talker\" node\n",
    "- publish a String type message \n",
    "- in a /chatter topic\n",
    "- with a rate of 10Hz\n",
    "\n",
    "The syntaxis code in python is:"
   ],
   "metadata": {}
  },
  {
   "cell_type": "code",
   "execution_count": null,
   "source": [
    "#!/usr/bin/env python\n",
    "# license removed for brevity\n",
    "import rospy\n",
    "from std_msgs.msg import String\n",
    "\n",
    "def talker():\n",
    "    pub = rospy.Publisher('chatter', String, queue_size=10)\n",
    "    rospy.init_node('talker', anonymous=True)\n",
    "    rate = rospy.Rate(10) # 10hz\n",
    "    while not rospy.is_shutdown():\n",
    "        hello_str = \"hello world %s\" % rospy.get_time()\n",
    "        rospy.loginfo(hello_str)\n",
    "        pub.publish(hello_str)\n",
    "        rate.sleep()\n",
    "\n",
    "if __name__ == '__main__':\n",
    "    try:\n",
    "        talker()\n",
    "    except rospy.ROSInterruptException:\n",
    "        pass"
   ],
   "outputs": [],
   "metadata": {}
  },
  {
   "cell_type": "markdown",
   "source": [
    "A python subscriber node is defined to:\n",
    "- create a \"listener\" node\n",
    "- subscribe to the /chatter topic \n",
    "- a message of type std_msgs.msgs.String \n",
    "- When new messages are received, callback is invoked with the message as the first argument\n",
    "\n",
    "The syntaxis code in python is:"
   ],
   "metadata": {}
  },
  {
   "cell_type": "code",
   "execution_count": null,
   "source": [
    "#!/usr/bin/env python\n",
    "import rospy\n",
    "from std_msgs.msg import String\n",
    "\n",
    "def callback(data):\n",
    "    rospy.loginfo(rospy.get_caller_id() + \"I heard %s\", data.data)\n",
    "    \n",
    "def listener():\n",
    "\"\"\"\n",
    "In ROS, nodes are uniquely named. If two nodes with the same name are launched, the previous one is kicked off. The anonymous=True flag means that rospy will choose a unique name for our 'listener' node so that multiple listeners can run simultaneously.\n",
    "\"\"\"\n",
    "    rospy.init_node('listener', anonymous=True)\n",
    "    rospy.Subscriber(\"chatter\", String, callback)\n",
    "    # spin() simply keeps python from exiting until this node is stopped\n",
    "    rospy.spin()\n",
    "\n",
    "if __name__ == '__main__':\n",
    "    listener()"
   ],
   "outputs": [],
   "metadata": {}
  },
  {
   "cell_type": "markdown",
   "source": [
    "### Exercise: Doubled"
   ],
   "metadata": {}
  },
  {
   "cell_type": "markdown",
   "source": [
    "Create a \"doubler\" node that:\n",
    "- subscribes to a /number topic\n",
    "- calculates the double of the number read in /number topic\n",
    "- publish the result in /doubled topic"
   ],
   "metadata": {}
  },
  {
   "cell_type": "markdown",
   "source": [
    "<img src=\"./Images/2_PubSub_2.png\">"
   ],
   "metadata": {}
  },
  {
   "cell_type": "markdown",
   "source": [
    "The python code is represented in \"doubler.py\""
   ],
   "metadata": {}
  },
  {
   "cell_type": "code",
   "execution_count": null,
   "source": [
    "#!/usr/bin/env python\n",
    "import rospy\n",
    "from std_msgs.msg import Int32\n",
    "\n",
    "def callback(msg):\n",
    "    doubled = Int32()\n",
    "    doubled.data = msg.data * 2\n",
    "    pub.publish(doubled)\n",
    "\n",
    "rospy.init_node('doubler')\n",
    "sub = rospy.Subscriber('number', Int32, callback)\n",
    "pub = rospy.Publisher('doubled', Int32, queue_size=10)\n",
    "rospy.spin()"
   ],
   "outputs": [],
   "metadata": {}
  },
  {
   "cell_type": "markdown",
   "source": [
    "Carefull!:\n",
    "Be sure that the python editor has \"End of Line sequence\" selected to LF (right-bottom section in VS Code)\n",
    "\n",
    " To verify the program, we have to publish a number in /number topic and subscibe to the /doubled topic using different terminals:"
   ],
   "metadata": {}
  },
  {
   "cell_type": "code",
   "execution_count": null,
   "source": [
    "roscore\n",
    "rosrun ros_basics doubler.py\n",
    "rostopic echo doubled\n",
    "rostopic pub number std_msgs/Int32 2\n",
    "rqt_graph"
   ],
   "outputs": [],
   "metadata": {}
  },
  {
   "cell_type": "markdown",
   "source": [
    "<img src=\"./Images/03_Doubled1.png\">"
   ],
   "metadata": {}
  },
  {
   "cell_type": "markdown",
   "source": [
    "<img src=\"./Images/03_Doubled2.png\">"
   ],
   "metadata": {}
  },
  {
   "cell_type": "markdown",
   "source": [
    "### Exercise: Counter"
   ],
   "metadata": {}
  },
  {
   "cell_type": "markdown",
   "source": [
    "In this exercise, we develop python scripts to perform the following functionalities.\n",
    "- Publish a number every 1s\n",
    "- Read this number, adds with the previous one and publishes the result\n",
    "\n",
    "Graphically is represented by:"
   ],
   "metadata": {}
  },
  {
   "cell_type": "markdown",
   "source": [
    "<img src=\"./Images/2_PubSub_3.png\">"
   ],
   "metadata": {}
  },
  {
   "cell_type": "markdown",
   "source": [
    "Create in  the \"script\" folder the python file \"publisher_num.py\" for the Publiser:"
   ],
   "metadata": {}
  },
  {
   "cell_type": "code",
   "execution_count": null,
   "source": [
    "#!/usr/bin/env python\n",
    "import rospy\n",
    "from std_msgs.msg import Int64\n",
    "\n",
    "rospy.init_node(\"number_publisher\", anonymous=True)\n",
    "pub = rospy.Publisher(\"/number\", Int64, queue_size=10)\n",
    "rate = rospy.Rate(1)\n",
    "\n",
    "while not rospy.is_shutdown():\n",
    "\tmsg = Int64()\n",
    "\tmsg.data = 2\n",
    "\tpub.publish(msg)\n",
    "\trate.sleep()"
   ],
   "outputs": [],
   "metadata": {}
  },
  {
   "cell_type": "markdown",
   "source": [
    "Do not forget to make the file executable: chmod +x Publisher_num.py\n",
    "\n",
    "In \"script\" folder create the python file \"pubsub_counter.py\" for the Publiser/Subscriber:"
   ],
   "metadata": {}
  },
  {
   "cell_type": "code",
   "execution_count": null,
   "source": [
    "#!/usr/bin/env python\n",
    "import rospy\n",
    "from std_msgs.msg import Int64\n",
    "\n",
    "counter = 0\n",
    "\n",
    "def callback_number(msg):\n",
    "\tglobal counter\n",
    "\tcounter += msg.data\n",
    "\tnew_msg = Int64()\n",
    "\tnew_msg.data = counter\n",
    "\tpub.publish(new_msg)\n",
    "\trospy.loginfo(\"I Publish the counter value: %s\", counter)\n",
    "\n",
    "rospy.init_node('number_counter')\n",
    "pub = rospy.Publisher(\"/number_count\", Int64, queue_size=10)\n",
    "sub = rospy.Subscriber(\"/number\", Int64, callback_number)\n",
    "rospy.spin()"
   ],
   "outputs": [],
   "metadata": {}
  },
  {
   "cell_type": "markdown",
   "source": [
    "Do not forget to make the file executable: chmod +x PubSub_counter.py\n",
    "\n",
    "These python scripts can be adapted to the desired control functions.\n",
    "\n",
    "To properly run the ROS application, create a launch folder containing the launch file:"
   ],
   "metadata": {}
  },
  {
   "cell_type": "code",
   "execution_count": null,
   "source": [
    "cd ~/rubot_tutorial_ws/src/ros_basics\n",
    "mkdir launch"
   ],
   "outputs": [],
   "metadata": {}
  },
  {
   "cell_type": "markdown",
   "source": [
    "create this file: counter.launch"
   ],
   "metadata": {}
  },
  {
   "cell_type": "code",
   "execution_count": null,
   "source": [
    "<?xml version=\"1.0\" encoding=\"UTF-8\"?>\n",
    "\n",
    "<launch>\n",
    "    <node pkg=\"ros_basics\" type=\"publisher_num.py\" name=\"number_publisher\"/>\n",
    "    <node pkg=\"ros_basics\" type=\"pubsub_counter.py\" name=\"number_counter\" output=\"screen\" />\n",
    "</launch>"
   ],
   "outputs": [],
   "metadata": {}
  },
  {
   "cell_type": "code",
   "execution_count": null,
   "source": [
    "roslaunch ros_basics counter.launch"
   ],
   "outputs": [],
   "metadata": {}
  },
  {
   "cell_type": "markdown",
   "source": [
    "<img src=\"./Images/2_PubSub_4.png\">"
   ],
   "metadata": {}
  },
  {
   "cell_type": "code",
   "execution_count": null,
   "source": [
    "rqt_graph"
   ],
   "outputs": [],
   "metadata": {}
  },
  {
   "cell_type": "markdown",
   "source": [
    "<img src=\"./Images/2_counter2.png\">"
   ],
   "metadata": {}
  }
 ],
 "metadata": {
  "kernelspec": {
   "display_name": "Python 3",
   "language": "python",
   "name": "python3"
  },
  "language_info": {
   "codemirror_mode": {
    "name": "ipython",
    "version": 3
   },
   "file_extension": ".py",
   "mimetype": "text/x-python",
   "name": "python",
   "nbconvert_exporter": "python",
   "pygments_lexer": "ipython3",
   "version": "3.7.6"
  }
 },
 "nbformat": 4,
 "nbformat_minor": 2
}