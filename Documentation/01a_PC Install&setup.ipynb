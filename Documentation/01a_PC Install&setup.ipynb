{
 "cells": [
  {
   "cell_type": "markdown",
   "metadata": {},
   "source": [
    "# ROS Installation"
   ]
  },
  {
   "cell_type": "markdown",
   "metadata": {},
   "source": [
    "Required installations:\n",
    "- Virtual Box with Ubuntu 18\n",
    "- ROS Melodic\n",
    "- VS Code \n",
    "- Git&GitHub\n"
   ]
  },
  {
   "cell_type": "markdown",
   "metadata": {},
   "source": [
    "### Virtual Box with Ubuntu 18"
   ]
  },
  {
   "cell_type": "markdown",
   "metadata": {},
   "source": [
    "You have first to enable the Virtualization in the setup (for older PCs):\n",
    "https://support.bluestacks.com/hc/es/articles/115003174386--C%C3%B3mo-puedo-habilitar-la-virtualizaci%C3%B3n-VT-en-mi-PC-"
   ]
  },
  {
   "cell_type": "markdown",
   "metadata": {},
   "source": [
    "Install Virtual Box: https://www.virtualbox.org/wiki/Downloads"
   ]
  },
  {
   "cell_type": "markdown",
   "metadata": {},
   "source": [
    "Install Ubuntu 18.04.5 LTS (Bionic Beaver) Desktop (64Bits) in Virtual Box: https://releases.ubuntu.com/18.04/?_ga=2.48347750.1131381805.1604151205-1612800938.1604151205"
   ]
  },
  {
   "cell_type": "markdown",
   "metadata": {},
   "source": [
    "Video Link: https://www.youtube.com/watch?v=QbmRXJJKsvs\n",
    "https://linuxhint.com/install_ubuntu_18-04_virtualbox/"
   ]
  },
  {
   "source": [
    "It is important to share a folder in windows:\n",
    "\n",
    "- In VBox properties: Specify the folder to share in properties\n",
    "- In Ubuntu machine: Identify the shared folder in /media Ubuntu folder (cd /media)\n",
    "- Identify the Group of the owner of this folder (vboxsf) (ls -la)\n",
    "- Add the user (ur) to the group\n",
    "\n",
    "sudo usermod -a -G <grup_al_que vols_afegir_l_usuari> <usuari>\n",
    "\n",
    "sudo usermod -a -G vboxsf mpuig\n",
    "- Restart the VM and add folder to bookmarks\n",
    "- Close and open again the virtual machine\n"
   ],
   "cell_type": "markdown",
   "metadata": {}
  },
  {
   "cell_type": "markdown",
   "metadata": {},
   "source": [
    "### ROS Melodic installation\n",
    "Open a command terminal and execute the following:"
   ]
  },
  {
   "cell_type": "markdown",
   "metadata": {},
   "source": [
    "Before installing the software, make sure that you have the two basic curl and git tools."
   ]
  },
  {
   "cell_type": "code",
   "execution_count": null,
   "metadata": {},
   "outputs": [],
   "source": [
    "sudo apt update\n",
    "sudo apt install curl git"
   ]
  },
  {
   "cell_type": "markdown",
   "metadata": {},
   "source": [
    "ROS Melodic also has an installation page at http://wiki.ros.org/melodic/Installation/Ubuntu"
   ]
  },
  {
   "cell_type": "markdown",
   "metadata": {},
   "source": [
    "1. First, add the source repository for ROS:"
   ]
  },
  {
   "cell_type": "code",
   "execution_count": null,
   "metadata": {},
   "outputs": [],
   "source": [
    "sudo sh -c 'echo \"deb http://packages.ros.org/ros/ubuntu $(lsb_release -sc) main\" > /etc/apt/sources.list.d/ros-latest.list'"
   ]
  },
  {
   "cell_type": "markdown",
   "metadata": {},
   "source": [
    "2. Then, set up your keys:"
   ]
  },
  {
   "cell_type": "code",
   "execution_count": null,
   "metadata": {},
   "outputs": [],
   "source": [
    "sudo apt-key adv --keyserver 'hkp://keyserver.ubuntu.com:80' --recv-key C1CF6E31E6BADE8868B172B4F42ED6FBAB17C654"
   ]
  },
  {
   "cell_type": "markdown",
   "metadata": {},
   "source": [
    "3. Update your sources:"
   ]
  },
  {
   "cell_type": "code",
   "execution_count": null,
   "metadata": {},
   "outputs": [],
   "source": [
    "sudo apt update"
   ]
  },
  {
   "cell_type": "markdown",
   "metadata": {},
   "source": [
    "4. If you are working in Ubuntu 18.04, perform the installation of ROS Melodic:"
   ]
  },
  {
   "cell_type": "code",
   "execution_count": null,
   "metadata": {},
   "outputs": [],
   "source": [
    "sudo apt install ros-melodic-desktop-full"
   ]
  },
  {
   "cell_type": "markdown",
   "metadata": {},
   "source": [
    "5. Initialize rosdep. This is the component that enables you to easily install system dependencies for the source code to compile. It is also required in order to run some core components in ROS:"
   ]
  },
  {
   "cell_type": "code",
   "execution_count": null,
   "metadata": {},
   "outputs": [],
   "source": [
    "rosdep update\n",
    "sudo rosdep init"
   ]
  },
  {
   "cell_type": "markdown",
   "metadata": {},
   "source": [
    "6. Set up the ROS environment for your interactive shell session:"
   ]
  },
  {
   "cell_type": "code",
   "execution_count": null,
   "metadata": {},
   "outputs": [],
   "source": [
    "echo \"source /opt/ros/melodic/setup.bash\" >> ~/.bashrc \n",
    "source ~/.bashrc\n"
   ]
  },
  {
   "cell_type": "markdown",
   "metadata": {},
   "source": [
    "7. Finally, install rosinstall, the command-line tool that enables you to easily download many source trees for ROS packages:"
   ]
  },
  {
   "cell_type": "code",
   "execution_count": null,
   "metadata": {},
   "outputs": [],
   "source": [
    "sudo apt install python-rosinstall python-rosinstall-generator python-wstool build-essential"
   ]
  },
  {
   "cell_type": "markdown",
   "metadata": {},
   "source": [
    "#### Creation of ROS workspace \n",
    "\n",
    "Once the installation is complete, it is very important to configure our ROS workspace, which will be named as **catkin_ws**. For this, we will open a new terminal in our ubuntu 18.04 and insert the following comands:"
   ]
  },
  {
   "source": [
    "mkdir catkin_ws\n",
    "cd catkin_ws\n",
    "mkdir src\n",
    "catkin_init_workspace\n",
    "cd ~/catkin_ws"
   ],
   "cell_type": "code",
   "metadata": {},
   "execution_count": null,
   "outputs": []
  },
  {
   "source": [
    "\n",
    "If the command requires administrator permission, execute \"sudo su\" before the respective command.  \n"
   ],
   "cell_type": "markdown",
   "metadata": {}
  },
  {
   "cell_type": "code",
   "execution_count": null,
   "metadata": {},
   "outputs": [],
   "source": [
    "catkin_make"
   ]
  },
  {
   "source": [
    "\n",
    "Finally, introduce the following command:  "
   ],
   "cell_type": "markdown",
   "metadata": {}
  },
  {
   "cell_type": "code",
   "execution_count": null,
   "metadata": {},
   "outputs": [],
   "source": [
    "source devel/setup.bash"
   ]
  },
  {
   "source": [
    "This last command must be executed at every new terminal we open. To avoid this repeatibility, we will add the following lines to our .bashrc script by running:  "
   ],
   "cell_type": "markdown",
   "metadata": {}
  },
  {
   "cell_type": "code",
   "execution_count": null,
   "metadata": {},
   "outputs": [],
   "source": [
    "gedit ~/.bashrc"
   ]
  },
  {
   "source": [
    "And add to the script:  "
   ],
   "cell_type": "markdown",
   "metadata": {}
  },
  {
   "cell_type": "code",
   "execution_count": null,
   "metadata": {},
   "outputs": [],
   "source": [
    "source ~/catkin_ws/devel/setup.bash"
   ]
  },
  {
   "source": [
    "New terminals will pick up when you open it. \n",
    "\n",
    "Finally, to remove the restrictions to write or modify on existing files:    "
   ],
   "cell_type": "markdown",
   "metadata": {}
  },
  {
   "cell_type": "code",
   "execution_count": null,
   "metadata": {},
   "outputs": [],
   "source": [
    "sudo su\n",
    "chmod -R 777 catkin_ws\n",
    "chmod -R 777 catkin_ws/src"
   ]
  },
  {
   "source": [
    "With this, our workspace is configured"
   ],
   "cell_type": "markdown",
   "metadata": {}
  },
  {
   "cell_type": "markdown",
   "metadata": {},
   "source": [
    "### VS Code"
   ]
  },
  {
   "cell_type": "markdown",
   "metadata": {},
   "source": [
    "The best way is in Ubuntu Applications search \"Visual Studio Code\" and install from there.\n",
    "Install the Extensions:\n",
    "- Python (Microsoft)\n",
    "- Python for VSCode\n",
    "- Remote SSH (Microsoft)\n",
    "- Jupyter notebook\n",
    "- XML\n"
   ]
  },
  {
   "cell_type": "markdown",
   "metadata": {},
   "source": [
    "### Git&GitHub"
   ]
  },
  {
   "cell_type": "markdown",
   "metadata": {},
   "source": [
    "For windows https://git-scm.com/\n",
    "\n",
    "In Ubuntu Git is already installed, but if not: https://git-scm.com/download/linux\n",
    "\n",
    "sudo apt-get install git\n"
   ]
  },
  {
   "source": [
    "### Initialise a git repository\n",
    "\n",
    "Open a folder in VS Code. If you want to Initialize a Repository in your GitHub:\n",
    "- In source control select \"Initialize Repository\"\n",
    "- The first time you will have to connect to your github account\n",
    "- Stage your changes\n",
    "- Enter a message and press Ctrl+Enter\n",
    "- Select Publish repository in the bottom left\n",
    "- select Public repository and choose the repository name"
   ],
   "cell_type": "markdown",
   "metadata": {}
  },
  {
   "source": [
    "<img src=\"./Images/1_github_init.png\">"
   ],
   "cell_type": "markdown",
   "metadata": {}
  },
  {
   "source": [
    "<img src=\"./Images/1_github_stage.png\">"
   ],
   "cell_type": "markdown",
   "metadata": {}
  },
  {
   "source": [
    "<img src=\"./Images/1_github_pub.png\">"
   ],
   "cell_type": "markdown",
   "metadata": {}
  },
  {
   "cell_type": "markdown",
   "metadata": {},
   "source": [
    "### Clone a gitHub repository in VS Code "
   ]
  },
  {
   "cell_type": "markdown",
   "metadata": {},
   "source": [
    "From VS Code \n",
    "\n",
    "Close folders\n",
    "\n",
    "Select Git and Clone repository (if doesnot work, you have to install git)\n",
    "\n",
    "Insert the path (https://...git). \n",
    "\n",
    "The repository we will clone is: https://github.com/manelpuig/rubot_tutorial_ws\n",
    "\n",
    "you select the home folder location and choose \"open\" in VS Code"
   ]
  },
  {
   "source": [
    "<img src=\"./Images/1a_gitclone1.png\">"
   ],
   "cell_type": "markdown",
   "metadata": {}
  },
  {
   "source": [
    "The rrubot_tutorial_ws folder is now in the Ubuntu18 home directory.\n",
    "\n",
    "We have now to compile this workspace in your ubuntu environment before working. For this purpose you have to:\n",
    "\n",
    "1. delete the \"build\" and \"devel\" folders and CMakeLists.txt file in src folder\n",
    "2. open a terminal compile again typing:\n"
   ],
   "cell_type": "markdown",
   "metadata": {}
  },
  {
   "cell_type": "code",
   "execution_count": null,
   "metadata": {},
   "outputs": [],
   "source": [
    "cd ~/rubot_tutorial_ws\n",
    "catkin_make\n",
    "cd ..\n",
    "echo \"source ~/rubot_tutorial_ws/devel/setup.bash\" >> ~/.bashrc\n",
    "source ~/.bashrc"
   ]
  },
  {
   "source": [
    "Verify in the .bashrc file the last 3 lines to be:"
   ],
   "cell_type": "markdown",
   "metadata": {}
  },
  {
   "source": [
    "source /opt/ros/melodic/setup.bash\n",
    "source ~/rUBotCoop_LabProject/devel/setup.bash\n",
    "ROS_MASTER_URI = http://localhost:11311"
   ],
   "cell_type": "markdown",
   "metadata": {}
  },
  {
   "source": [
    "To verify if the rubot_tutorial_ws is working properly, type:"
   ],
   "cell_type": "markdown",
   "metadata": {}
  },
  {
   "cell_type": "code",
   "execution_count": null,
   "metadata": {},
   "outputs": [],
   "source": [
    "roslaunch turtlesim_tutorial move_distance.launch"
   ]
  },
  {
   "source": [
    "Verify first if the python files in scripts folder are executables.\n",
    "\n",
    "Open a terminal in this folder and type: chmod +x *\n",
    "\n",
    "Then you can execute the launch file again and you will see:"
   ],
   "cell_type": "markdown",
   "metadata": {}
  },
  {
   "source": [
    "<img src=\"./Images/1a_moveturtle_verify1.png\">"
   ],
   "cell_type": "markdown",
   "metadata": {}
  },
  {
   "source": [
    "### Sync gitHub repository within VS Code "
   ],
   "cell_type": "markdown",
   "metadata": {}
  },
  {
   "cell_type": "markdown",
   "metadata": {},
   "source": [
    "You have a gitHub repository with a name and mail. When you want to work with this repository within VS Code, you have first to clone your repository in your PC (previous section).\n",
    "\n",
    "You can work with your project in VS Code. When you finish, to syncronise the changes you have made using VS Code, you have to:\n",
    "\n",
    "1. Inform about the git name and git email\n",
    "\n",
    "In a terminal insert only first time (using your name and email):"
   ]
  },
  {
   "cell_type": "code",
   "execution_count": null,
   "metadata": {},
   "outputs": [],
   "source": [
    "git config --global user.name \"Manel Puig\""
   ]
  },
  {
   "cell_type": "code",
   "execution_count": null,
   "metadata": {},
   "outputs": [],
   "source": [
    "git config --global user.email \"manel.puig@ub.edu\""
   ]
  },
  {
   "cell_type": "markdown",
   "metadata": {},
   "source": [
    "2. Go to git and refresh.\n",
    "\n",
    "You will see the file with “M” mark\n",
    "\n",
    "Stage changes: Click in “+”\n",
    "\n",
    "3. Add comment to the commit “Canvi 5” (and press ctrl+enter)\n",
    "\n",
    "4. Go to \"Syncronize Changes\" in the Bottom left corner and the changes are sincronized in gitHub\n"
   ]
  },
  {
   "source": [
    "<img src=\"./Images/1a_gitsync.png\">"
   ],
   "cell_type": "markdown",
   "metadata": {}
  }
 ],
 "metadata": {
  "kernelspec": {
   "display_name": "Python 3",
   "language": "python",
   "name": "python3"
  },
  "language_info": {
   "codemirror_mode": {
    "name": "ipython",
    "version": 3
   },
   "file_extension": ".py",
   "mimetype": "text/x-python",
   "name": "python",
   "nbconvert_exporter": "python",
   "pygments_lexer": "ipython3",
   "version": "3.7.6-final"
  }
 },
 "nbformat": 4,
 "nbformat_minor": 2
}