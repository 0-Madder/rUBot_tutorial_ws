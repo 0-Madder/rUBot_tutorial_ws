{
 "cells": [
  {
   "cell_type": "markdown",
   "metadata": {},
   "source": [
    "# Raspberrypi3 Install&Setup"
   ]
  },
  {
   "source": [
    "Follow the steps in order to properly install the Raspberrypi:\n",
    "\n",
    "1. Install Raspberry Pi OS using Raspberry Pi Imager (download for windows): https://www.raspberrypi.org/software/\n",
    "2. Run the application and save the image (Raspberry pi OS (32-bit)) to the SD card\n",
    "3. Insert the SD in a RBPi board and connect it to screen\n",
    "4. The system ask you to choose a wifi network and change the timezone, language and password\n",
    "5. Reboot and select Raspberry Pi Configuration to activate the SSH and Camera\n",
    "6. reboot and open a terminal to obtain the IP address using \"ifconfig\"\n",
    "\n",
    "You are now ready to connect from your Ubuntu Virtual machine using VS Code or a simple terminal"
   ],
   "cell_type": "markdown",
   "metadata": {}
  },
  {
   "source": [
    "<img src=\"./Images/1b_raspbian1.png\">"
   ],
   "cell_type": "markdown",
   "metadata": {}
  },
  {
   "source": [
    "Alternativelly you can connect to the RBPi using SSH in a wifi network without the previous configurations using a screen connection if you follow the instructions:\n",
    "\n",
    "1. add ssh file (without extension) in the SD in the G:boot directory\n",
    "2. add wpa_supplicant.conf file containing different wifi. This file could be:"
   ],
   "cell_type": "markdown",
   "metadata": {}
  },
  {
   "cell_type": "code",
   "execution_count": null,
   "metadata": {},
   "outputs": [],
   "source": [
    "ctrl_interface=DIR=/var/run/wpa_supplicant GROUP=netdev\n",
    "update_config=1\n",
    "country=ES\n",
    " \n",
    "network={\n",
    "        ssid=\"TP-Link_4C96\"\n",
    "        psk=\"xxxxxxxx\"\n",
    "}\n",
    "network={\n",
    "        ssid=\"Manel\"\n",
    "        psk=\"xxxxxxxx\"\n",
    "}"
   ]
  },
  {
   "source": [
    "In order to mask the password, type:"
   ],
   "cell_type": "markdown",
   "metadata": {}
  },
  {
   "source": [
    "<img src=\"./Images/1b_passphrase.png\">"
   ],
   "cell_type": "markdown",
   "metadata": {}
  },
  {
   "source": [
    "We obtained the wpa_supplicant.conf (edit it first on WordPad to be sure there are not unproper characters!)"
   ],
   "cell_type": "markdown",
   "metadata": {}
  },
  {
   "cell_type": "code",
   "execution_count": null,
   "metadata": {},
   "outputs": [],
   "source": [
    "ctrl_interface=DIR=/var/run/wpa_supplicant GROUP=netdev\n",
    "update_config=1\n",
    "country=ES\n",
    "\n",
    "network={\n",
    "        ssid=\"WifiHome\"\n",
    "        psk=5a90beb50ad5daf822c353363560841d3c0009f85d6ce2fdb2f408b22c701841\n",
    "}\n",
    "network={\n",
    "        ssid=\"RoboticsUB\"\n",
    "        psk=7771bd4ce7dcff824cb242d9d98a4ddb8e50dd9f807c27f0245b91121a6a4d5a\n",
    "}\n",
    "network={​​​​\n",
    "        ssid=\"TP-Link_4C96\"\n",
    "\tpsk=3366b025441e97b4b190e8b577ed69572f16a52c6f88d42fda304b966d7243bb\n",
    "}\n",
    "network={\n",
    "        ssid=\"TP-Link_5E70\"\n",
    "        psk=dbe64abcd68e5312429f6b6fc6766d08304f11de98bf12bd6a2e7d75f305c675\n",
    "}\n",
    "network={\n",
    "        ssid=\"Manel\"\n",
    "        psk=f8c78c7a12242e1b7848663033165a55984d4573431695ada4c94492abb99887\n",
    "}"
   ]
  },
  {
   "source": [
    "### WinSCP\n",
    "\n",
    "For easy edition files you can install winSCP (https://winscp.net/eng/docs/guide_install#downloading) and open the raspberrypi session using winSCP with root privileges (https://www.fororaspberry.es/viewtopic.php?t=10578). You have to use the SCP protocol and in advanced options SCP/shell select \"sudo su -\""
   ],
   "cell_type": "markdown",
   "metadata": {}
  },
  {
   "source": [
    "<img src=\"./Images/02_winSCP_su.png\">"
   ],
   "cell_type": "markdown",
   "metadata": {}
  },
  {
   "source": [
    "### Remote Desktop XRDP\n",
    "\n",
    "Install Remote Desktop XRDP in raspberrypi:\n",
    "\n",
    "sudo apt-get install xrdp\n",
    "\n",
    "Then in windows open the \"Escritorio remoto\" and connect to the RBPi\n"
   ],
   "cell_type": "markdown",
   "metadata": {}
  },
  {
   "source": [
    "<img src=\"./Images/02_RemoteDesktop.png\">"
   ],
   "cell_type": "markdown",
   "metadata": {}
  },
  {
   "source": [
    "### Win IP Scanner\n",
    "\n",
    "Install IP scanner for windows: https://www.advanced-ip-scanner.com/es/"
   ],
   "cell_type": "markdown",
   "metadata": {}
  },
  {
   "source": [
    "<img src=\"./Images/02_IPScanner.png\">"
   ],
   "cell_type": "markdown",
   "metadata": {}
  },
  {
   "source": [
    "3. Connect the RBPi to the router and find the IP number\n",
    "\n",
    "## Connection to RBPi from Ubuntu PC\n",
    "\n",
    "The first connection to the RBPi has to be using a Terminal in Virtual Box:\n",
    "\n",
    "1. type \"ssh pi@192.168.18.46\" (the default pass is raspberry)\n",
    "2. When you connect the same RBPi to another network, you have a warning because you have to regenerate the KeyGen of your computer. You have to type (using the proper IP): ssh-keygen -R 192.168.18.46"
   ],
   "cell_type": "markdown",
   "metadata": {}
  },
  {
   "source": [
    "<img src=\"./Images/1b_SSH1.png\">"
   ],
   "cell_type": "markdown",
   "metadata": {}
  },
  {
   "source": [
    "Now you will be able to connect to the RBPi within the environment VS Code:\n",
    "   \n",
    "5. Open VS Code and connect with ssh extension\n",
    "    - if you work in VBox, verify the network is configured as \"adaptador puente\"\n",
    "    - Choose \"Remote SSH: connect to Host...\"\n",
    "    - select \"+ Add New SSH Host\" (the first time)\n",
    "    - type \"ssh pi@192.168.18.46\"\n",
    "    - select /home/mpuig/.ssh/config\n",
    "    - click \"connect\" in the popup window\n",
    "    - a fingertip appears... click continue\n",
    "    - enter the password you have choosen for ubuntu in raspberrypi3 --> you are in!!\n",
    "6. Open folder or clone Repository"
   ],
   "cell_type": "markdown",
   "metadata": {}
  },
  {
   "source": [
    "<img src=\"./Images/1b_xarxa_AdaptadorPont.png\">"
   ],
   "cell_type": "markdown",
   "metadata": {}
  },
  {
   "cell_type": "code",
   "execution_count": null,
   "metadata": {},
   "outputs": [],
   "source": []
  },
  {
   "source": [
    "<img src=\"./Images/1b_ssh.png\">"
   ],
   "cell_type": "markdown",
   "metadata": {}
  },
  {
   "source": [
    "9. You can install all the other components typing:"
   ],
   "cell_type": "markdown",
   "metadata": {}
  },
  {
   "cell_type": "code",
   "execution_count": null,
   "metadata": {},
   "outputs": [],
   "source": [
    "wget -O - https://raw.githubusercontent.com/Albert-Alvarez/rUBot/master/setup.sh | sudo bash"
   ]
  },
  {
   "source": [
    "8. To shutdown the RBPi type in the terminal:"
   ],
   "cell_type": "markdown",
   "metadata": {}
  },
  {
   "cell_type": "code",
   "execution_count": null,
   "metadata": {},
   "outputs": [],
   "source": [
    "sudo shutdown -h now"
   ]
  },
  {
   "cell_type": "markdown",
   "metadata": {},
   "source": [
    "# Install gopigo HW"
   ]
  },
  {
   "source": [
    "In order to install all the necessary in the Raspberry Pi, type:"
   ],
   "cell_type": "markdown",
   "metadata": {}
  },
  {
   "cell_type": "code",
   "execution_count": null,
   "metadata": {},
   "outputs": [],
   "source": [
    "wget -O - https://raw.githubusercontent.com/Albert-Alvarez/rUBot/master/setup.sh | sudo bash"
   ]
  },
  {
   "cell_type": "markdown",
   "metadata": {},
   "source": [
    "If you want to install all the modules step by step, follow the next instructions to properly install gopigo:\n",
    "\n",
    "1. you will update the Ubuntu repositories in your system; afterward, the system packages will be upgraded:"
   ]
  },
  {
   "cell_type": "code",
   "execution_count": null,
   "metadata": {},
   "outputs": [],
   "source": [
    "sudo apt update && sudo apt upgrade -y"
   ]
  },
  {
   "cell_type": "markdown",
   "metadata": {},
   "source": [
    "2. You will need a git package in order to clone the repositories of code. If this is not on your system, then you can install it using the following command:"
   ]
  },
  {
   "cell_type": "code",
   "execution_count": null,
   "metadata": {},
   "outputs": [],
   "source": [
    "sudo apt install git"
   ]
  },
  {
   "cell_type": "markdown",
   "metadata": {},
   "source": [
    "3. We will also add another useful package, tree, in order to get information from the filesystem:"
   ]
  },
  {
   "cell_type": "code",
   "execution_count": null,
   "metadata": {},
   "outputs": [],
   "source": [
    "sudo apt install tree"
   ]
  },
  {
   "cell_type": "markdown",
   "metadata": {},
   "source": [
    "## ROS Melodic"
   ]
  },
  {
   "cell_type": "code",
   "execution_count": null,
   "metadata": {},
   "outputs": [],
   "source": []
  },
  {
   "cell_type": "markdown",
   "metadata": {},
   "source": [
    "It is recommended that you install the version of ROS Melodic (http://wiki.ros.org/ROSberryPi/Installing%20ROS%20Melodic%20on%20the%20Raspberry%20Pi)\n",
    "\n",
    "Install the ROS Desktop following the instructions in the previous website.\n",
    "\n",
    "You have now the ROS Melodic installed in your Raspberry Pi and a \"ros_catkin_ws\" in your home folder.\n",
    "\n",
    "Care!:\n",
    "you have to install the robot Melodic ROS stack ditribution!\n",
    "\n"
   ]
  },
  {
   "cell_type": "code",
   "execution_count": null,
   "metadata": {},
   "outputs": [],
   "source": [
    "rosinstall_generator robot --rosdistro melodic --deps --wet-only --tar > melodic-robot-wet.rosinstall\n",
    "wstool init src melodic-robot-wet.rosinstall"
   ]
  },
  {
   "source": [
    "You have to compile with only 2 Threats:"
   ],
   "cell_type": "markdown",
   "metadata": {}
  },
  {
   "cell_type": "code",
   "execution_count": null,
   "metadata": {},
   "outputs": [],
   "source": [
    "sudo ./src/catkin/bin/catkin_make_isolated --install -DCMAKE_BUILD_TYPE=Release --install-space /opt/ros/melodic -j2"
   ]
  },
  {
   "source": [
    "You have to source only to: source /opt/ros/melodic/setup.bash"
   ],
   "cell_type": "markdown",
   "metadata": {}
  },
  {
   "source": [
    "### Install some packages:\n",
    "\n",
    "You will have to install some more packages:\n",
    "- For 2D Camera of raspberryPi: http://wiki.ros.org/compressed_image_transport\n",
    "- For RPLIDAR: http://wiki.ros.org/rplidar\n",
    "- For YDLIDAR: https://github.com/YDLIDAR/ydlidar_ros or https://github.com/YDLIDAR/ydlidar_ros_driver\n",
    "\n",
    "you will have to do it with speciffic instructions:"
   ],
   "cell_type": "markdown",
   "metadata": {}
  },
  {
   "cell_type": "code",
   "execution_count": null,
   "metadata": {},
   "outputs": [],
   "source": []
  },
  {
   "cell_type": "markdown",
   "metadata": {},
   "source": [
    "## Drivers and DI sensors"
   ]
  },
  {
   "cell_type": "markdown",
   "metadata": {},
   "source": [
    "Now we will prepare the system to work with GoPiGo3. Dexter Industries supplies automated scripts to accomplish all the installations tasks:\n",
    "\n",
    "- The GoPiGo3 library, with the following script https://dexterindustries.com/update_gopigo3\n",
    "- The DI Sensors library, with the following script https://dexterindustries.com/update_sensors \n",
    "\n",
    "The relevant steps are provided in the official documentation at https://dexterindustries.com/update_gopigo3.\n",
    "\n",
    "In short, you only have to open a terminal and execute following two commands, one after another:\n"
   ]
  },
  {
   "cell_type": "code",
   "execution_count": null,
   "metadata": {},
   "outputs": [],
   "source": [
    "curl -kL dexterindustries.com/update_gopigo3 | bash\n",
    "curl -kL dexterindustries.com/update_sensors | bash"
   ]
  },
  {
   "cell_type": "markdown",
   "metadata": {},
   "source": [
    "At this point, your operating system is ready to run any GoPiGo3 code, that is, the Python scripts that we used in Chapter 2, Unit Testing of GoPiGo3.\n"
   ]
  },
  {
   "cell_type": "markdown",
   "metadata": {},
   "source": [
    "## Install Pi Camera"
   ]
  },
  {
   "cell_type": "markdown",
   "metadata": {},
   "source": [
    "First, we will enable access to the camera hardware from the Raspberry Pi and we will install the Python module to handle the camera:\n",
    "\n",
    "First, we will enable access to the camera hardware from the Raspberry Pi, and second, we will install the Python module to handle the camera:\n",
    "\n",
    "1. First, we need to edit the /boot/config.txt file:"
   ]
  },
  {
   "cell_type": "code",
   "execution_count": null,
   "metadata": {},
   "outputs": [],
   "source": [
    "sudo nano /boot/config.txt"
   ]
  },
  {
   "cell_type": "markdown",
   "metadata": {},
   "source": [
    "2. Then, we add these two lines at the end:"
   ]
  },
  {
   "cell_type": "code",
   "execution_count": null,
   "metadata": {},
   "outputs": [],
   "source": [
    "start_x=1\n",
    "gpu_mem=128"
   ]
  },
  {
   "cell_type": "markdown",
   "metadata": {},
   "source": [
    "Alternatively, you can get the same result by adding these lines from the command line:"
   ]
  },
  {
   "cell_type": "code",
   "execution_count": null,
   "metadata": {},
   "outputs": [],
   "source": [
    "sudo bash -c \"echo 'start_x=1' >> /boot/config.txt\"\n",
    "sudo bash -c \"echo 'gpu_mem=128' >> /boot/config.txt\" "
   ]
  },
  {
   "cell_type": "markdown",
   "metadata": {},
   "source": [
    "3. Next, install the Python module as follows:"
   ]
  },
  {
   "cell_type": "code",
   "execution_count": null,
   "metadata": {},
   "outputs": [],
   "source": [
    "sudo pip install picamera"
   ]
  },
  {
   "cell_type": "markdown",
   "metadata": {},
   "source": [
    "To check that the camera works properly, create this Python script and name it captureFile.py (you can find it inside the piCamera folder in the code for this chapter):"
   ]
  },
  {
   "cell_type": "markdown",
   "metadata": {},
   "source": [
    "Give execution permissions and run the Python module:"
   ]
  },
  {
   "cell_type": "code",
   "execution_count": null,
   "metadata": {},
   "outputs": [],
   "source": [
    "chmod +x captureFile.py\n",
    "./captureFile.py"
   ]
  },
  {
   "source": [
    "## Gopigo first steps"
   ],
   "cell_type": "markdown",
   "metadata": {}
  },
  {
   "source": [
    "Review the provider document to setup and firsts steps:\n",
    "https://gopigo3.readthedocs.io/en/master/index.html\n",
    "\n",
    "You can use:\n",
    "- Jupyter notebook \n",
    "- python scripts and run directly from VS Code\n",
    "- ROS environment\n"
   ],
   "cell_type": "markdown",
   "metadata": {}
  },
  {
   "source": [
    "#### 1. Jupyter notebook\n",
    "\n",
    "Try this first code in Jupyter notebook"
   ],
   "cell_type": "markdown",
   "metadata": {}
  },
  {
   "cell_type": "code",
   "execution_count": null,
   "metadata": {},
   "outputs": [],
   "source": [
    "# import the time library for the sleep function\n",
    "import time\n",
    "from easygopigo3 import EasyGoPiGo3\n",
    "\n",
    "# create an instance of the GoPiGo3 class.\n",
    "# gpg will be the GoPiGo3 object.\n",
    "gpg = EasyGoPiGo3()\n",
    "print(\"Move the motors forward freely for 1 second.\")\n",
    "gpg.forward()\n",
    "time.sleep(1)\n",
    "gpg.stop()"
   ]
  },
  {
   "source": [
    "#### 2. Python script\n",
    "\n",
    "The same code can be saved in a python script \"Motor_test1.py\" and runed"
   ],
   "cell_type": "markdown",
   "metadata": {}
  },
  {
   "source": [
    "#### 3. ROS environment\n",
    "\n",
    "To start using contributed ROS packages or to create your own, you will need to have a workspace in which to put the code.\n",
    "\n",
    "1. From a bash terminal, create a folder and initialize the workspace:"
   ],
   "cell_type": "markdown",
   "metadata": {}
  },
  {
   "cell_type": "code",
   "execution_count": null,
   "metadata": {},
   "outputs": [],
   "source": [
    "mkdir -p ~/catkin_ws/src\n",
    "cd ~/catkin_ws/src\n",
    "catkin_init_workspace"
   ]
  },
  {
   "source": [
    "2. Next, build the workspace:"
   ],
   "cell_type": "markdown",
   "metadata": {}
  },
  {
   "cell_type": "code",
   "execution_count": null,
   "metadata": {},
   "outputs": [],
   "source": [
    "cd ~/catkin_ws\n",
    "catkin_make"
   ]
  },
  {
   "source": [
    "3. Then, add it to your ROS environment:"
   ],
   "cell_type": "markdown",
   "metadata": {}
  },
  {
   "cell_type": "code",
   "execution_count": null,
   "metadata": {},
   "outputs": [],
   "source": [
    "echo \"source ~/catkin_ws/devel/setup.bash\" >> ~/.bashrc\n",
    "source ~/.bashrc"
   ]
  },
  {
   "source": [
    "4. Clone the book repository (https://github.com/PacktPublishing/Hands-On-ROS-for-Robotics-Programming) in your home folder:"
   ],
   "cell_type": "markdown",
   "metadata": {}
  },
  {
   "cell_type": "code",
   "execution_count": null,
   "metadata": {},
   "outputs": [],
   "source": [
    "git clone https://github.com/PacktPublishing/Hands-On-ROS-for-Robotics-Programming"
   ]
  },
  {
   "source": [
    "5. Now copy the Chapter6_ROS_programming folder to the ROS workspace as usual:"
   ],
   "cell_type": "markdown",
   "metadata": {}
  },
  {
   "cell_type": "code",
   "execution_count": null,
   "metadata": {},
   "outputs": [],
   "source": [
    "cp -R ~/Hands-On-ROS-for-Robotics-Programming/Chapter6_ROS_programming ~/catkin_ws/src "
   ]
  },
  {
   "source": [
    "6. Next, build again the workspace:"
   ],
   "cell_type": "markdown",
   "metadata": {}
  },
  {
   "cell_type": "code",
   "execution_count": null,
   "metadata": {},
   "outputs": [],
   "source": [
    "cd ~/catkin_ws\n",
    "catkin_make"
   ]
  },
  {
   "source": [
    "7. Install useful terminal"
   ],
   "cell_type": "markdown",
   "metadata": {}
  },
  {
   "cell_type": "code",
   "execution_count": null,
   "metadata": {},
   "outputs": [],
   "source": [
    "sudo apt-get update\n",
    "sudo apt-get install terminator "
   ]
  },
  {
   "source": [
    "8. run the gopigo3 node to pub and subscribe to the different topics:"
   ],
   "cell_type": "markdown",
   "metadata": {}
  },
  {
   "cell_type": "code",
   "execution_count": null,
   "metadata": {},
   "outputs": [],
   "source": [
    "roslaunch mygopigo gopigo3.launch\n",
    "rostopic list\n",
    "rostopic pub -r 1 /cmd_vel geometry_msgs/Twist '[1, 0, 0]' '[0, 0, 1]'\n",
    "rostopic echo /odom\n",
    "rostopic echo /motor/encoder/left\n",
    "rostopic pub -r 1 /cmd_vel geometry_msgs/Twist '[0, 0, 0]' '[0, 0, 0]'"
   ]
  }
 ],
 "metadata": {
  "kernelspec": {
   "display_name": "Python 3",
   "language": "python",
   "name": "python3"
  },
  "language_info": {
   "codemirror_mode": {
    "name": "ipython",
    "version": 3
   },
   "file_extension": ".py",
   "mimetype": "text/x-python",
   "name": "python",
   "nbconvert_exporter": "python",
   "pygments_lexer": "ipython3",
   "version": "3.7.3"
  }
 },
 "nbformat": 4,
 "nbformat_minor": 2
}